{
 "cells": [
  {
   "cell_type": "markdown",
   "id": "59130f22",
   "metadata": {},
   "source": [
    "### Uber Pickups Analysis Quiz\n",
    "\n",
    "The question set is based on the August dataset, `uber-raw-data-aug14.csv`.\n",
    "\n",
    "#### Keeping the dataset ready before questions"
   ]
  },
  {
   "cell_type": "code",
   "execution_count": 18,
   "id": "5cee4116",
   "metadata": {},
   "outputs": [
    {
     "data": {
      "text/html": [
       "<div>\n",
       "<style scoped>\n",
       "    .dataframe tbody tr th:only-of-type {\n",
       "        vertical-align: middle;\n",
       "    }\n",
       "\n",
       "    .dataframe tbody tr th {\n",
       "        vertical-align: top;\n",
       "    }\n",
       "\n",
       "    .dataframe thead th {\n",
       "        text-align: right;\n",
       "    }\n",
       "</style>\n",
       "<table border=\"1\" class=\"dataframe\">\n",
       "  <thead>\n",
       "    <tr style=\"text-align: right;\">\n",
       "      <th></th>\n",
       "      <th>Date/Time</th>\n",
       "      <th>Lat</th>\n",
       "      <th>Lon</th>\n",
       "      <th>Base</th>\n",
       "    </tr>\n",
       "  </thead>\n",
       "  <tbody>\n",
       "    <tr>\n",
       "      <th>0</th>\n",
       "      <td>8/1/2014 0:03:00</td>\n",
       "      <td>40.7366</td>\n",
       "      <td>-73.9906</td>\n",
       "      <td>B02512</td>\n",
       "    </tr>\n",
       "    <tr>\n",
       "      <th>1</th>\n",
       "      <td>8/1/2014 0:09:00</td>\n",
       "      <td>40.7260</td>\n",
       "      <td>-73.9918</td>\n",
       "      <td>B02512</td>\n",
       "    </tr>\n",
       "    <tr>\n",
       "      <th>2</th>\n",
       "      <td>8/1/2014 0:12:00</td>\n",
       "      <td>40.7209</td>\n",
       "      <td>-74.0507</td>\n",
       "      <td>B02512</td>\n",
       "    </tr>\n",
       "    <tr>\n",
       "      <th>3</th>\n",
       "      <td>8/1/2014 0:12:00</td>\n",
       "      <td>40.7387</td>\n",
       "      <td>-73.9856</td>\n",
       "      <td>B02512</td>\n",
       "    </tr>\n",
       "    <tr>\n",
       "      <th>4</th>\n",
       "      <td>8/1/2014 0:12:00</td>\n",
       "      <td>40.7323</td>\n",
       "      <td>-74.0077</td>\n",
       "      <td>B02512</td>\n",
       "    </tr>\n",
       "  </tbody>\n",
       "</table>\n",
       "</div>"
      ],
      "text/plain": [
       "          Date/Time      Lat      Lon    Base\n",
       "0  8/1/2014 0:03:00  40.7366 -73.9906  B02512\n",
       "1  8/1/2014 0:09:00  40.7260 -73.9918  B02512\n",
       "2  8/1/2014 0:12:00  40.7209 -74.0507  B02512\n",
       "3  8/1/2014 0:12:00  40.7387 -73.9856  B02512\n",
       "4  8/1/2014 0:12:00  40.7323 -74.0077  B02512"
      ]
     },
     "execution_count": 18,
     "metadata": {},
     "output_type": "execute_result"
    }
   ],
   "source": [
    "import pandas as pd\n",
    "\n",
    "df = pd.read_csv('uber-raw-data-aug14.csv')\n",
    "df.head()"
   ]
  },
  {
   "cell_type": "code",
   "execution_count": 37,
   "id": "3932002c",
   "metadata": {},
   "outputs": [
    {
     "name": "stdout",
     "output_type": "stream",
     "text": [
      "<class 'pandas.core.frame.DataFrame'>\n",
      "RangeIndex: 829275 entries, 0 to 829274\n",
      "Data columns (total 5 columns):\n",
      " #   Column     Non-Null Count   Dtype         \n",
      "---  ------     --------------   -----         \n",
      " 0   Date/Time  829275 non-null  datetime64[ns]\n",
      " 1   Lat        829275 non-null  float64       \n",
      " 2   Lon        829275 non-null  float64       \n",
      " 3   Base       829275 non-null  object        \n",
      " 4   Date       829275 non-null  object        \n",
      "dtypes: datetime64[ns](1), float64(2), object(2)\n",
      "memory usage: 31.6+ MB\n"
     ]
    }
   ],
   "source": [
    "df.info()"
   ]
  },
  {
   "cell_type": "code",
   "execution_count": 38,
   "id": "4885e470",
   "metadata": {},
   "outputs": [
    {
     "data": {
      "text/html": [
       "<div>\n",
       "<style scoped>\n",
       "    .dataframe tbody tr th:only-of-type {\n",
       "        vertical-align: middle;\n",
       "    }\n",
       "\n",
       "    .dataframe tbody tr th {\n",
       "        vertical-align: top;\n",
       "    }\n",
       "\n",
       "    .dataframe thead th {\n",
       "        text-align: right;\n",
       "    }\n",
       "</style>\n",
       "<table border=\"1\" class=\"dataframe\">\n",
       "  <thead>\n",
       "    <tr style=\"text-align: right;\">\n",
       "      <th></th>\n",
       "      <th>Lat</th>\n",
       "      <th>Lon</th>\n",
       "    </tr>\n",
       "  </thead>\n",
       "  <tbody>\n",
       "    <tr>\n",
       "      <th>count</th>\n",
       "      <td>829275.000000</td>\n",
       "      <td>829275.000000</td>\n",
       "    </tr>\n",
       "    <tr>\n",
       "      <th>mean</th>\n",
       "      <td>40.737781</td>\n",
       "      <td>-73.970160</td>\n",
       "    </tr>\n",
       "    <tr>\n",
       "      <th>std</th>\n",
       "      <td>0.043628</td>\n",
       "      <td>0.061483</td>\n",
       "    </tr>\n",
       "    <tr>\n",
       "      <th>min</th>\n",
       "      <td>39.656900</td>\n",
       "      <td>-74.773700</td>\n",
       "    </tr>\n",
       "    <tr>\n",
       "      <th>25%</th>\n",
       "      <td>40.719000</td>\n",
       "      <td>-73.995800</td>\n",
       "    </tr>\n",
       "    <tr>\n",
       "      <th>50%</th>\n",
       "      <td>40.740700</td>\n",
       "      <td>-73.982600</td>\n",
       "    </tr>\n",
       "    <tr>\n",
       "      <th>75%</th>\n",
       "      <td>40.760500</td>\n",
       "      <td>-73.961200</td>\n",
       "    </tr>\n",
       "    <tr>\n",
       "      <th>max</th>\n",
       "      <td>41.318200</td>\n",
       "      <td>-72.335900</td>\n",
       "    </tr>\n",
       "  </tbody>\n",
       "</table>\n",
       "</div>"
      ],
      "text/plain": [
       "                 Lat            Lon\n",
       "count  829275.000000  829275.000000\n",
       "mean       40.737781     -73.970160\n",
       "std         0.043628       0.061483\n",
       "min        39.656900     -74.773700\n",
       "25%        40.719000     -73.995800\n",
       "50%        40.740700     -73.982600\n",
       "75%        40.760500     -73.961200\n",
       "max        41.318200     -72.335900"
      ]
     },
     "execution_count": 38,
     "metadata": {},
     "output_type": "execute_result"
    }
   ],
   "source": [
    "df.describe()"
   ]
  },
  {
   "cell_type": "markdown",
   "id": "c622eaeb",
   "metadata": {},
   "source": [
    "#### Q1. On what date did we see the most number of Uber pickups?\n",
    "\n",
    "**Skill Test:** Grouping & Counting"
   ]
  },
  {
   "cell_type": "code",
   "execution_count": 22,
   "id": "55dbb048",
   "metadata": {},
   "outputs": [
    {
     "name": "stdout",
     "output_type": "stream",
     "text": [
      "                 Date/Time      Lat      Lon    Base        Date\n",
      "0      2014-08-01 00:03:00  40.7366 -73.9906  B02512  2014-08-01\n",
      "1      2014-08-01 00:09:00  40.7260 -73.9918  B02512  2014-08-01\n",
      "2      2014-08-01 00:12:00  40.7209 -74.0507  B02512  2014-08-01\n",
      "3      2014-08-01 00:12:00  40.7387 -73.9856  B02512  2014-08-01\n",
      "4      2014-08-01 00:12:00  40.7323 -74.0077  B02512  2014-08-01\n",
      "...                    ...      ...      ...     ...         ...\n",
      "829270 2014-08-31 23:55:00  40.7552 -73.9753  B02764  2014-08-31\n",
      "829271 2014-08-31 23:55:00  40.7552 -73.9753  B02764  2014-08-31\n",
      "829272 2014-08-31 23:55:00  40.7617 -73.9788  B02764  2014-08-31\n",
      "829273 2014-08-31 23:59:00  40.7395 -73.9889  B02764  2014-08-31\n",
      "829274 2014-08-31 23:59:00  40.7270 -73.9802  B02764  2014-08-31\n",
      "\n",
      "[829275 rows x 5 columns]\n",
      "Date\n",
      "2014-08-01    32353\n",
      "2014-08-02    28678\n",
      "2014-08-03    23146\n",
      "2014-08-04    24952\n",
      "2014-08-05    28094\n",
      "2014-08-06    30495\n",
      "2014-08-07    32759\n",
      "2014-08-08    30411\n",
      "2014-08-09    26286\n",
      "2014-08-10    20584\n",
      "2014-08-11    22632\n",
      "2014-08-12    29646\n",
      "2014-08-13    29788\n",
      "2014-08-14    30457\n",
      "2014-08-15    28974\n",
      "2014-08-16    26234\n",
      "2014-08-17    21209\n",
      "2014-08-18    21956\n",
      "2014-08-19    24834\n",
      "2014-08-20    27955\n",
      "2014-08-21    32304\n",
      "2014-08-22    29512\n",
      "2014-08-23    27097\n",
      "2014-08-24    22036\n",
      "2014-08-25    22093\n",
      "2014-08-26    24550\n",
      "2014-08-27    27018\n",
      "2014-08-28    28597\n",
      "2014-08-29    27424\n",
      "2014-08-30    23930\n",
      "2014-08-31    23271\n",
      "dtype: int64\n",
      "2014-08-07\n"
     ]
    }
   ],
   "source": [
    "# Convert the 'Date/Time' column to datetime format\n",
    "df['Date/Time'] = pd.to_datetime(df['Date/Time'])\n",
    "\n",
    "# Print the updated DataFrame\n",
    "print(df)\n",
    "\n",
    "\n",
    "\n",
    "\n",
    "# Group by date and count the number of pickups\n",
    "df['Date'] = df['Date/Time'].dt.date\n",
    "pickup_counts = df.groupby('Date').size()\n",
    "print(pickup_counts)\n",
    "\n",
    "\n",
    "\n",
    "# Find the date with the highest number of pickups\n",
    "date_with_highest_pickups = pickup_counts.idxmax()\n",
    "print(date_with_highest_pickups)\n"
   ]
  },
  {
   "cell_type": "markdown",
   "id": "92876286",
   "metadata": {},
   "source": [
    "#### Q.2 How many Uber pickups were made on the date with the highest number of pickups?\n",
    "\n",
    "**Skill Test:** Indexing and filtering"
   ]
  },
  {
   "cell_type": "code",
   "execution_count": 24,
   "id": "f9574d4a",
   "metadata": {},
   "outputs": [
    {
     "name": "stdout",
     "output_type": "stream",
     "text": [
      "                 Date/Time      Lat      Lon    Base        Date\n",
      "6944   2014-08-07 00:03:00  40.7455 -73.9895  B02512  2014-08-07\n",
      "6945   2014-08-07 00:09:00  40.7499 -74.0025  B02512  2014-08-07\n",
      "6946   2014-08-07 00:10:00  40.7417 -74.0037  B02512  2014-08-07\n",
      "6947   2014-08-07 00:16:00  40.6416 -73.7879  B02512  2014-08-07\n",
      "6948   2014-08-07 00:16:00  40.7008 -73.9405  B02512  2014-08-07\n",
      "...                    ...      ...      ...     ...         ...\n",
      "783791 2014-08-07 23:47:00  40.7337 -73.9925  B02764  2014-08-07\n",
      "783792 2014-08-07 23:47:00  40.7245 -73.9934  B02764  2014-08-07\n",
      "783793 2014-08-07 23:49:00  40.7624 -74.0204  B02764  2014-08-07\n",
      "783794 2014-08-07 23:53:00  40.7801 -73.9589  B02764  2014-08-07\n",
      "783795 2014-08-07 23:54:00  40.7648 -73.9783  B02764  2014-08-07\n",
      "\n",
      "[32759 rows x 5 columns]\n",
      "32759\n"
     ]
    }
   ],
   "source": [
    "# Filter the DataFrame to include only the rows for the date with the highest number of pickups\n",
    "filtered_df = df[df['Date'] == date_with_highest_pickups]\n",
    "print(filtered_df)\n",
    "\n",
    "# Get the count of pickups on the highest date\n",
    "pickup_count_highest_date = pickup_counts.loc[date_with_highest_pickups]\n",
    "print(pickup_count_highest_date)\n",
    "\n"
   ]
  },
  {
   "cell_type": "markdown",
   "id": "7dc6baef",
   "metadata": {},
   "source": [
    "#### Q.3 How many unique TLC base companies are affiliated with the Uber pickups in the dataset?\n",
    "\n",
    "**Skill Test:** Counting unique values"
   ]
  },
  {
   "cell_type": "code",
   "execution_count": 43,
   "id": "9380c5ff",
   "metadata": {},
   "outputs": [
    {
     "name": "stdout",
     "output_type": "stream",
     "text": [
      "5\n"
     ]
    }
   ],
   "source": [
    "# Count the number of unique TLC base companies\n",
    "\n",
    "unique_companies_count = df['Base'].nunique()\n",
    "\n",
    "print(unique_companies_count)\n",
    "\n"
   ]
  },
  {
   "cell_type": "markdown",
   "id": "71958a9f",
   "metadata": {},
   "source": [
    "#### Q.4 Which TLC base company had the highest number of pickups?\n",
    "\n",
    "**Skill Test:** Grouping, counting, and finding the maximum"
   ]
  },
  {
   "cell_type": "code",
   "execution_count": 45,
   "id": "cd1cfe55",
   "metadata": {},
   "outputs": [
    {
     "name": "stdout",
     "output_type": "stream",
     "text": [
      "Base\n",
      "B02512     31472\n",
      "B02598    220129\n",
      "B02617    355803\n",
      "B02682    173280\n",
      "B02764     48591\n",
      "dtype: int64\n",
      "B02617\n"
     ]
    }
   ],
   "source": [
    "# Group by TLC base company and count the number of pickups\n",
    "\n",
    "pickup_counts = df.groupby('Base').size()\n",
    "\n",
    "print(pickup_counts)\n",
    "\n",
    "# Find the TLC base company with the highest number of pickups\n",
    "company_with_highest_pickups = pickup_counts.idxmax()\n",
    "\n",
    "print(company_with_highest_pickups)\n"
   ]
  },
  {
   "cell_type": "markdown",
   "id": "a7fe7748",
   "metadata": {},
   "source": [
    "#### Q.5 How many Uber pickups were made at each unique TLC base company?\n",
    "\n",
    "**Skill Test:** Grouping and counting"
   ]
  },
  {
   "cell_type": "code",
   "execution_count": 46,
   "id": "f8a4e6b3",
   "metadata": {},
   "outputs": [
    {
     "name": "stdout",
     "output_type": "stream",
     "text": [
      "Base\n",
      "B02512     31472\n",
      "B02598    220129\n",
      "B02617    355803\n",
      "B02682    173280\n",
      "B02764     48591\n",
      "Name: Base, dtype: int64\n"
     ]
    }
   ],
   "source": [
    "# Group by TLC base company and count the number of pickups\n",
    "\n",
    "pickup_counts = df.groupby('Base')['Base'].count()\n",
    "\n",
    "print(pickup_counts)\n"
   ]
  },
  {
   "cell_type": "markdown",
   "id": "fdae331e",
   "metadata": {},
   "source": [
    "#### Q.6 Can you determine the busiest time of day for Uber pickups based on the date/time column?\n",
    "\n",
    "**Skill Test:** Extracting time components, grouping, counting, and finding the maximum"
   ]
  },
  {
   "cell_type": "code",
   "execution_count": 48,
   "id": "3341b137",
   "metadata": {},
   "outputs": [
    {
     "name": "stdout",
     "output_type": "stream",
     "text": [
      "Date/Time\n",
      "0     21451\n",
      "1     14471\n",
      "2     10105\n",
      "3     10376\n",
      "4     11774\n",
      "5     16525\n",
      "6     24907\n",
      "7     34064\n",
      "8     34566\n",
      "9     30195\n",
      "10    30706\n",
      "11    31778\n",
      "12    32106\n",
      "13    35764\n",
      "14    40644\n",
      "15    48197\n",
      "16    53481\n",
      "17    57122\n",
      "18    55390\n",
      "19    53008\n",
      "20    51674\n",
      "21    51354\n",
      "22    46008\n",
      "23    33609\n",
      "dtype: int64\n",
      "17\n"
     ]
    }
   ],
   "source": [
    "# Extract the hour from the 'Date/Time' column\n",
    "\n",
    "df['Date/Time'] = pd.to_datetime(df['Date/Time'])\n",
    "\n",
    "df['Hour'] = df['Date/Time'].dt.hour\n",
    "\n",
    "# Group by hour and count the number of pickups\n",
    "df['Date/Time'] = pd.to_datetime(df['Date/Time'])\n",
    "\n",
    "pickup_counts = df.groupby(df['Date/Time'].dt.hour).size()\n",
    "print(pickup_counts)\n",
    "\n",
    "# Find the hour with the highest number of pickups\n",
    "\n",
    "hour_with_highest_pickups = pickup_counts.idxmax()\n",
    "\n",
    "\n",
    "print(hour_with_highest_pickups)\n"
   ]
  },
  {
   "cell_type": "markdown",
   "id": "c2d856c1",
   "metadata": {},
   "source": [
    "#### Q.7 Can you create a visualization (e.g., a bar chart or line plot) to represent the number of Uber pickups over time?\n",
    "\n",
    "**Skill Test:** Data Visualization using Plotting function "
   ]
  },
  {
   "cell_type": "code",
   "execution_count": 52,
   "id": "bf609d23",
   "metadata": {},
   "outputs": [
    {
     "data": {
      "image/png": "[encoded data removed]",
      "text/plain": [
       "<Figure size 432x288 with 1 Axes>"
      ]
     },
     "metadata": {
      "needs_background": "light"
     },
     "output_type": "display_data"
    }
   ],
   "source": [
    "import matplotlib.pyplot as plt\n",
    "\n",
    "# Group by date and count the number of pickups\n",
    "df['Date/Time'] = pd.to_datetime(df['Date/Time'])\n",
    "\n",
    "\n",
    "pickup_counts = df.groupby(df['Date/Time'].dt.date).size()\n",
    "\n",
    "\n",
    "# Create a line plot to visualize the number of pickups over time\n",
    "df['Date/Time'] = pd.to_datetime(df['Date/Time'])\n",
    "\n",
    "pickup_counts = df.groupby(df['Date/Time'].dt.date).size()\n",
    "\n",
    "plt.plot(pickup_counts.index, pickup_counts.values)\n",
    "plt.title('Number of Pickups Over Time')\n",
    "plt.xlabel('Date')\n",
    "plt.ylabel('Number of Pickups')\n",
    "plt.xticks(rotation=45)\n",
    "\n",
    "\n",
    "plt.show()\n"
   ]
  },
  {
   "cell_type": "markdown",
   "id": "8aed8e44",
   "metadata": {},
   "source": [
    "#### Q8. Can you create a scatter plot to visualize the distribution of Uber pickups based on latitude and longitude?\n",
    "\n",
    "**Skill Test:** Scatter Plot"
   ]
  },
  {
   "cell_type": "code",
   "execution_count": 53,
   "id": "50b31f2f",
   "metadata": {},
   "outputs": [
    {
     "data": {
      "image/png": "[encoded data removed]",
      "text/plain": [
       "<Figure size 432x288 with 1 Axes>"
      ]
     },
     "metadata": {
      "needs_background": "light"
     },
     "output_type": "display_data"
    }
   ],
   "source": [
    "# Create a scatter plot to visualize the distribution of Uber pickups based on latitude and longitude\n",
    "plt.scatter(df['Lon'], df['Lat'], s=5, alpha=0.5)\n",
    "\n",
    "plt.title('Distribution of Uber Pickups')\n",
    "plt.xlabel('Longitude')\n",
    "plt.ylabel('Latitude')\n",
    "\n",
    "# Display the plot\n",
    "plt.show()\n"
   ]
  },
  {
   "cell_type": "markdown",
   "id": "3e0bad62",
   "metadata": {},
   "source": [
    "#### Q9. Can you create a bar chart to compare the number of Uber pickups for each TLC base company?\n",
    "\n",
    "**Skill Test:** Bar Chart"
   ]
  },
  {
   "cell_type": "code",
   "execution_count": 55,
   "id": "5b603834",
   "metadata": {},
   "outputs": [
    {
     "data": {
      "image/png": "[encoded data removed]",
      "text/plain": [
       "<Figure size 432x288 with 1 Axes>"
      ]
     },
     "metadata": {
      "needs_background": "light"
     },
     "output_type": "display_data"
    }
   ],
   "source": [
    "# Create a bar chart to compare the number of Uber pickups for each TLC base company\n",
    "pickup_counts = df.groupby('Base').size()\n",
    "\n",
    "\n",
    "plt.bar(pickup_counts.index, pickup_counts.values)\n",
    "plt.title('Number of Uber Pickups by TLC Base Company')\n",
    "plt.xlabel('TLC Base Company')\n",
    "plt.ylabel('Number of Pickups')\n",
    "\n",
    "\n",
    "\n",
    "# Display the plot\n",
    "plt.show()\n"
   ]
  },
  {
   "cell_type": "markdown",
   "id": "e61b3ecf",
   "metadata": {},
   "source": [
    "#### Q10. Can you create a pie chart to display the percentage distribution of Uber pickups for each day of the week?\n",
    "\n",
    "**Skill Test:** Pie Chart"
   ]
  },
  {
   "cell_type": "code",
   "execution_count": 59,
   "id": "e45dbff8",
   "metadata": {},
   "outputs": [
    {
     "data": {
      "image/png": "[encoded data removed]",
      "text/plain": [
       "<Figure size 432x288 with 1 Axes>"
      ]
     },
     "metadata": {},
     "output_type": "display_data"
    }
   ],
   "source": [
    "# Group by day of the week and count the number of pickups\n",
    "\n",
    "df['Date/Time'] = pd.to_datetime(df['Date/Time'])\n",
    "pickup_counts = df.groupby(df['Date/Time'].dt.dayofweek).size()\n",
    "\n",
    "\n",
    "# Create a pie chart to display the percentage distribution of Uber pickups for each day of the week\n",
    "labels = ['Monday', 'Tuesday', 'Wednesday', 'Thursday', 'Friday', 'Saturday', 'Sunday']\n",
    "plt.pie(pickup_counts, labels=labels, autopct='%1.1f%%')\n",
    "plt.title('Percentage Distribution of Uber Pickups by Day of the Week')\n",
    "\n",
    "# Display the plot\n",
    "plt.show()\n"
   ]
  },
  {
   "cell_type": "code",
   "execution_count": null,
   "id": "4cd2ac5c",
   "metadata": {},
   "outputs": [],
   "source": []
  }
 ],
 "metadata": {
  "kernelspec": {
   "display_name": "Python 3 (ipykernel)",
   "language": "python",
   "name": "python3"
  },
  "language_info": {
   "codemirror_mode": {
    "name": "ipython",
    "version": 3
   },
   "file_extension": ".py",
   "mimetype": "text/x-python",
   "name": "python",
   "nbconvert_exporter": "python",
   "pygments_lexer": "ipython3",
   "version": "3.9.12"
  }
 },
 "nbformat": 4,
 "nbformat_minor": 5
}
